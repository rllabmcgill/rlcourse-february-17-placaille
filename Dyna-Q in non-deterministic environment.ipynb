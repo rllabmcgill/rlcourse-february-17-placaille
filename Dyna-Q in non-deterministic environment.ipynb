{
 "cells": [
  {
   "cell_type": "markdown",
   "metadata": {},
   "source": [
    "## Applying Dyna-Q in a non-deterministic environment\n",
    "\n",
    "In this notebook, I will explore the recommended application of Dyna-Q in [Sutton's book](https://webdocs.cs.ualberta.ca/~sutton/book/the-book-2nd.html), but to a non-deterministic environment. The goal is to show how the simplest model performs under environment stochasticity."
   ]
  },
  {
   "cell_type": "markdown",
   "metadata": {},
   "source": [
    "### Implementing the environment and agents\n",
    "\n",
    "To simplify this element of the analysis, I will be using the gym library by OpenAI for this assignment.\n",
    "\n",
    "#### Environment\n",
    "\n",
    "In this assignment, the environment is the Taxi problem. The goal of the agent is to pick up a passenger and drop it at destination.\n",
    "\n",
    "There is randomness in the environment because at each reset, the location of the passenger, the destination of the passenger and the initial location of the taxi are random. Indeed, the passenger can be at any of the 4 letters in the map, and the location can be at any other 3 destination where the passenger is not currently at. The taxi also starts at a random position in the map.\n",
    "\n",
    "In the rendering of the map, the blue letter represents the passenger, the magenta letter the destination, and the color of the cursor is yellow if the taxi is empty and green when the passenger is inside.\n",
    "\n",
    "#### Reward system\n",
    "\n",
    "- There is a reward of 20 for bringing the passenger at the correct destination.\n",
    "- There is a reward of -1 for every timestep (i.e. time before passenger gets to destination)\n",
    "- There is a reward of -10 if the passenger is brought at the wrong destination.\n",
    "\n",
    "#### Set of actions\n",
    "\n",
    "- The agent can either move North, West, East, South.\n",
    "- The agent can either dropoff or pickup the client.\n",
    "- Only one action per step."
   ]
  },
  {
   "cell_type": "code",
   "execution_count": 1,
   "metadata": {
    "collapsed": true
   },
   "outputs": [],
   "source": [
    "%matplotlib inline\n",
    "import numpy as np\n",
    "import matplotlib.pyplot as plt\n",
    "import matplotlib.animation as animation\n",
    "import pickle as pkl\n",
    "import gym\n",
    "import pandas\n",
    "import random\n",
    "import collections"
   ]
  },
  {
   "cell_type": "code",
   "execution_count": 2,
   "metadata": {
    "collapsed": false
   },
   "outputs": [
    {
     "name": "stderr",
     "output_type": "stream",
     "text": [
      "[2017-02-16 20:58:39,716] Making new env: Taxi-v2\n"
     ]
    },
    {
     "name": "stdout",
     "output_type": "stream",
     "text": [
      "+---------+\n",
      "|R: | : :G|\n",
      "| :\u001b[43m \u001b[0m: : : |\n",
      "| : : : : |\n",
      "| | : | : |\n",
      "|\u001b[34;1mY\u001b[0m| : |\u001b[35mB\u001b[0m: |\n",
      "+---------+\n",
      "\n"
     ]
    }
   ],
   "source": [
    "env = gym.make('Taxi-v2')\n",
    "env.render()"
   ]
  },
  {
   "cell_type": "code",
   "execution_count": 3,
   "metadata": {
    "collapsed": true
   },
   "outputs": [],
   "source": [
    "def movingAverage(interval, window_size):\n",
    "    window = np.ones(int(window_size)) / float(window_size)\n",
    "    return np.convolve(interval, window, mode='same')\n",
    "\n",
    "def plot_avg_episode(list, avg_length, xlim=None, ylim=None):\n",
    "    # plot the results\n",
    "\n",
    "    x = np.arange(len(list[0]))\n",
    "    \n",
    "    avg_0 = pandas.rolling_mean(np.asarray(list[0]), avg_length, min_periods=1)\n",
    "    avg_1 = pandas.rolling_mean(np.asarray(list[1]), avg_length, min_periods=1)\n",
    "    avg_2 = pandas.rolling_mean(np.asarray(list[2]), avg_length, min_periods=1)\n",
    "    \n",
    "    plt.plot(x, avg_0, label='Q learning w/o plan')\n",
    "    plt.plot(x, avg_1, label='Q learning w/ plan 2')\n",
    "    plt.plot(x, avg_2, label='Q learning w/ plan 5')\n",
    "\n",
    "    plt.legend(loc='lower right')\n",
    "    plt.xlabel('episode')\n",
    "    plt.ylabel('avg reward over previous episodes')\n",
    "    plt.xlim(xlim)\n",
    "    plt.ylim(ylim)\n",
    "    plt.show()"
   ]
  },
  {
   "cell_type": "markdown",
   "metadata": {},
   "source": [
    "### Implementing Tabular Dyna-Q\n",
    "\n",
    "Under Dyna-Q, the concept is to generate additional *simulations* in order to improve the value-action function, to allow for better decision making under in the *real* environment. This could be beneficial for intuitive reasons in real world applications where either real environment interaction is expensive, dangerous or other unfeasible manner. Learning from simulations therefore allows for a cheaper and more secure way for the agent to *train* and better approximate the value functions.\n",
    "\n",
    "In some cases, it can even be safer for the environment itself (e.g. robots trying to drive...), but that is another discussion in itself!"
   ]
  },
  {
   "cell_type": "markdown",
   "metadata": {},
   "source": [
    "#### Details on Dyna-Q\n",
    "\n",
    "The planning part of Dyna-Q is the only different thing with typical Q-learning. The way it works is it builds a database of all the previous states and actions encountered and model the rewards and transitions for further improving the model.\n",
    "\n",
    "Here is the algorithm in detail:\n",
    "<img src='dyna_q_algo.png'>\n",
    "\n",
    "It is in the step (f) in the above figure, that the planning step appears. When initially presented with this approach (chapter 8), the book suggests that we should model the state action pair by storing what is the reward experience following a that action from this given state.\n",
    "\n",
    "The goal is for a given number of planning steps, we sample from our history or previous actions and states visited, then extract from our model the resulting following state and reward. An update to the Q values is performed just like regular Q-learning as if this was a newly sampled data point from the environment. This is then repeated for each planning steps before the agent truly executes another step in the _real world_."
   ]
  },
  {
   "cell_type": "code",
   "execution_count": 14,
   "metadata": {
    "collapsed": false
   },
   "outputs": [
    {
     "name": "stdout",
     "output_type": "stream",
     "text": [
      "Start training w/ 0 planning step(s)...\n",
      "- Qlearn episode 200 tot reward 4\n",
      "- Qlearn episode 400 tot reward -4\n",
      "- Qlearn episode 600 tot reward 2\n",
      "- Qlearn episode 800 tot reward -6\n",
      "- Qlearn episode 1000 tot reward 3\n",
      "- Qlearn episode 1200 tot reward 6\n",
      "- Qlearn episode 1400 tot reward 5\n",
      "- Qlearn episode 1600 tot reward 12\n",
      "- Qlearn episode 1800 tot reward 1\n",
      "- Qlearn episode 2000 tot reward 0\n",
      "training done.\n",
      "last 100 avg: 5.0\n",
      "Start training w/ 2 planning step(s)...\n",
      "- Qlearn episode 200 tot reward -468\n",
      "- Qlearn episode 400 tot reward -144\n",
      "- Qlearn episode 600 tot reward 13\n",
      "- Qlearn episode 800 tot reward -104\n",
      "- Qlearn episode 1000 tot reward -35\n",
      "- Qlearn episode 1200 tot reward -4\n",
      "- Qlearn episode 1400 tot reward -309\n",
      "- Qlearn episode 1600 tot reward -16\n",
      "- Qlearn episode 1800 tot reward -4\n",
      "- Qlearn episode 2000 tot reward 10\n",
      "training done.\n",
      "last 100 avg: -54.0\n",
      "Start training w/ 5 planning step(s)...\n",
      "- Qlearn episode 200 tot reward -129\n",
      "- Qlearn episode 400 tot reward -44\n",
      "- Qlearn episode 600 tot reward -1126\n",
      "- Qlearn episode 800 tot reward -572\n",
      "- Qlearn episode 1000 tot reward -192\n",
      "- Qlearn episode 1200 tot reward -172\n",
      "- Qlearn episode 1400 tot reward -1131\n",
      "- Qlearn episode 1600 tot reward -112\n",
      "- Qlearn episode 1800 tot reward -317\n",
      "- Qlearn episode 2000 tot reward -158\n",
      "training done.\n",
      "last 100 avg: -69.0\n"
     ]
    }
   ],
   "source": [
    "nb_states = env.observation_space.n\n",
    "nb_actions = env.action_space.n\n",
    "\n",
    "# Settings for learning\n",
    "nb_episodes = 2000\n",
    "init_epsilon = 0.1\n",
    "learn_rate = 0.8\n",
    "gamma = 0.8\n",
    "plan_steps = [0, 2, 5]\n",
    "\n",
    "rwrd_lst = []\n",
    "step_lst = []\n",
    "rwrd_lst_np = []\n",
    "last_Q_sa = []\n",
    "\n",
    "for n, planning_steps in enumerate(plan_steps):\n",
    "    \n",
    "    print 'Start training w/ %s planning step(s)...' % planning_steps\n",
    "    \n",
    "    # Initiate lists and dicts\n",
    "    Q_sa = np.ones((nb_states, nb_actions)) * 5\n",
    "    rwrd_lst.append([])\n",
    "    step_lst.append([])\n",
    "    sa_history = {}\n",
    "    model = {}\n",
    "\n",
    "    for episode_ID in xrange(1, nb_episodes+1):\n",
    "\n",
    "        # reset the environment\n",
    "        curr_state = env.reset()\n",
    "        \n",
    "        epsilon = init_epsilon\n",
    "\n",
    "        # reset params for the episode\n",
    "        steps = 0\n",
    "        tot_rwrd = 0\n",
    "        done = False\n",
    "\n",
    "        # loop until end of episode or over nb_steps\n",
    "        while not done:\n",
    "            steps += 1\n",
    "\n",
    "            if np.random.random_sample() <= epsilon:\n",
    "                # choose action at random\n",
    "                action = np.random.randint(nb_actions)\n",
    "            else:\n",
    "                # choose greedy action\n",
    "                action = np.argmax(Q_sa[curr_state, :])\n",
    "\n",
    "            # get new_state, reward for action and if reached the goal\n",
    "            new_state, rwrd, done, _ = env.step(action)\n",
    "\n",
    "            tot_rwrd += rwrd\n",
    "\n",
    "            # Apply Q-learning\n",
    "            Q_sa_prime = np.max(Q_sa[new_state, :]) \n",
    "            Q_sa[curr_state, action] += learn_rate * (rwrd + gamma * Q_sa_prime \n",
    "                                                      - Q_sa[curr_state, action]) \n",
    "            \n",
    "            if planning_steps > 0:\n",
    "                \n",
    "                # add the current state and action to the list of previous visits\n",
    "                if curr_state not in sa_history.keys():\n",
    "                    sa_history[curr_state] = []\n",
    "\n",
    "                if action not in sa_history[curr_state]:\n",
    "                    sa_history[curr_state].append(action)\n",
    "                    model[(curr_state, action)] = (rwrd, new_state)\n",
    "                \n",
    "                for _ in xrange(planning_steps):\n",
    "                \n",
    "                    # get random action and state based on previous visits\n",
    "                    rdm_curr_state = random.choice(sa_history.keys())\n",
    "                    rdm_action = random.choice(sa_history[rdm_curr_state])\n",
    "\n",
    "                    sim_reward, sim_new_state = model[(rdm_curr_state, rdm_action)]\n",
    "                    \n",
    "                    # Apply Q-learning\n",
    "                    Q_sa_prime = np.max(Q_sa[sim_new_state, :]) \n",
    "                    Q_sa[rdm_curr_state, rdm_action] += learn_rate * (rwrd + gamma * Q_sa_prime \n",
    "                                                                      - Q_sa[rdm_curr_state, rdm_action]) \n",
    "            \n",
    "            curr_state = new_state\n",
    "\n",
    "        step_lst[n].append(steps)\n",
    "        rwrd_lst[n].append(tot_rwrd)\n",
    "\n",
    "        if episode_ID % (nb_episodes / 10) == 0:\n",
    "            print '- Qlearn episode %s tot reward %s' %(episode_ID, tot_rwrd)\n",
    "            if episode_ID == nb_episodes:\n",
    "                last_Q_sa.append(Q_sa)\n",
    "            \n",
    "\n",
    "    print 'training done.'\n",
    "    rwrd_lst_np.append(np.asarray(rwrd_lst[n]))\n",
    "    print 'last 100 avg:', np.average(rwrd_lst_np[n][-100])"
   ]
  },
  {
   "cell_type": "markdown",
   "metadata": {},
   "source": [
    "#### Demonstrating the policy\n",
    "Below is illustrated the learned policy, with the action under the map. Refer to environment description above for more details regarding the map."
   ]
  },
  {
   "cell_type": "code",
   "execution_count": 15,
   "metadata": {
    "collapsed": false
   },
   "outputs": [
    {
     "name": "stdout",
     "output_type": "stream",
     "text": [
      "+---------+\n",
      "|\u001b[34;1mR\u001b[0m: | : :\u001b[35mG\u001b[0m|\n",
      "| : :\u001b[43m \u001b[0m: : |\n",
      "| : : : : |\n",
      "| | : | : |\n",
      "|Y| : |B: |\n",
      "+---------+\n",
      "  (Dropoff)\n",
      "+---------+\n",
      "|\u001b[34;1mR\u001b[0m: | : :\u001b[35mG\u001b[0m|\n",
      "| :\u001b[43m \u001b[0m: : : |\n",
      "| : : : : |\n",
      "| | : | : |\n",
      "|Y| : |B: |\n",
      "+---------+\n",
      "  (West)\n",
      "+---------+\n",
      "|\u001b[34;1mR\u001b[0m:\u001b[43m \u001b[0m| : :\u001b[35mG\u001b[0m|\n",
      "| : : : : |\n",
      "| : : : : |\n",
      "| | : | : |\n",
      "|Y| : |B: |\n",
      "+---------+\n",
      "  (North)\n",
      "+---------+\n",
      "|\u001b[34;1m\u001b[43mR\u001b[0m\u001b[0m: | : :\u001b[35mG\u001b[0m|\n",
      "| : : : : |\n",
      "| : : : : |\n",
      "| | : | : |\n",
      "|Y| : |B: |\n",
      "+---------+\n",
      "  (West)\n",
      "+---------+\n",
      "|\u001b[42mR\u001b[0m: | : :\u001b[35mG\u001b[0m|\n",
      "| : : : : |\n",
      "| : : : : |\n",
      "| | : | : |\n",
      "|Y| : |B: |\n",
      "+---------+\n",
      "  (Pickup)\n",
      "+---------+\n",
      "|R: | : :\u001b[35mG\u001b[0m|\n",
      "|\u001b[42m_\u001b[0m: : : : |\n",
      "| : : : : |\n",
      "| | : | : |\n",
      "|Y| : |B: |\n",
      "+---------+\n",
      "  (South)\n",
      "+---------+\n",
      "|R: | : :\u001b[35mG\u001b[0m|\n",
      "| :\u001b[42m_\u001b[0m: : : |\n",
      "| : : : : |\n",
      "| | : | : |\n",
      "|Y| : |B: |\n",
      "+---------+\n",
      "  (East)\n",
      "+---------+\n",
      "|R: | : :\u001b[35mG\u001b[0m|\n",
      "| : :\u001b[42m_\u001b[0m: : |\n",
      "| : : : : |\n",
      "| | : | : |\n",
      "|Y| : |B: |\n",
      "+---------+\n",
      "  (East)\n",
      "+---------+\n",
      "|R: | : :\u001b[35mG\u001b[0m|\n",
      "| : : :\u001b[42m_\u001b[0m: |\n",
      "| : : : : |\n",
      "| | : | : |\n",
      "|Y| : |B: |\n",
      "+---------+\n",
      "  (East)\n",
      "+---------+\n",
      "|R: | : :\u001b[35mG\u001b[0m|\n",
      "| : : : :\u001b[42m_\u001b[0m|\n",
      "| : : : : |\n",
      "| | : | : |\n",
      "|Y| : |B: |\n",
      "+---------+\n",
      "  (East)\n",
      "+---------+\n",
      "|R: | : :\u001b[35m\u001b[42mG\u001b[0m\u001b[0m|\n",
      "| : : : : |\n",
      "| : : : : |\n",
      "| | : | : |\n",
      "|Y| : |B: |\n",
      "+---------+\n",
      "  (North)\n",
      "+---------+\n",
      "|R: | : :\u001b[35m\u001b[42mG\u001b[0m\u001b[0m|\n",
      "| : : : : |\n",
      "| : : : : |\n",
      "| | : | : |\n",
      "|Y| : |B: |\n",
      "+---------+\n",
      "  (Dropoff)\n",
      "tot reward: 10\n",
      "number of steps: 11\n"
     ]
    }
   ],
   "source": [
    "curr_state = env.reset()\n",
    "epsilon = init_epsilon\n",
    "\n",
    "Q_sa = last_Q_sa[0] # use the one w/o planning to show optimality\n",
    "\n",
    "# reset params for the episode\n",
    "steps = 0\n",
    "tot_rwrd = 0\n",
    "done = False\n",
    "\n",
    "# loop until end of episode or over nb_steps\n",
    "while not done:\n",
    "    steps += 1\n",
    "    env.render()\n",
    "    # choose greedy action\n",
    "    action = np.argmax(Q_sa[curr_state, :])\n",
    "\n",
    "    # get new_state, reward for action and if reached the goal\n",
    "    new_state, rwrd, done, _ = env.step(action)\n",
    "    \n",
    "    tot_rwrd += rwrd\n",
    "    curr_state = new_state\n",
    "env.render()\n",
    "print 'tot reward:', tot_rwrd\n",
    "print 'number of steps:', steps"
   ]
  },
  {
   "cell_type": "markdown",
   "metadata": {},
   "source": [
    "### Plotting the results\n",
    "Plotted above are the average rewards over all previous episodes, a higher value is interpreted as being a better performance."
   ]
  },
  {
   "cell_type": "code",
   "execution_count": 6,
   "metadata": {
    "collapsed": false
   },
   "outputs": [
    {
     "name": "stderr",
     "output_type": "stream",
     "text": [
      "/usr/local/lib/python2.7/site-packages/ipykernel/__main__.py:10: FutureWarning: pd.rolling_mean is deprecated for ndarrays and will be removed in a future version\n",
      "/usr/local/lib/python2.7/site-packages/ipykernel/__main__.py:11: FutureWarning: pd.rolling_mean is deprecated for ndarrays and will be removed in a future version\n",
      "/usr/local/lib/python2.7/site-packages/ipykernel/__main__.py:12: FutureWarning: pd.rolling_mean is deprecated for ndarrays and will be removed in a future version\n"
     ]
    },
    {
     "data": {
      "image/png": "[encoded data removed]",
      "text/plain": [
       "<matplotlib.figure.Figure at 0x10d04fa90>"
      ]
     },
     "metadata": {},
     "output_type": "display_data"
    }
   ],
   "source": [
    "plot_avg_episode(list=rwrd_lst, avg_length=nb_episodes, ylim=[-3000,100])"
   ]
  },
  {
   "cell_type": "markdown",
   "metadata": {
    "collapsed": false
   },
   "source": [
    "### Analysis and discussion\n",
    "\n",
    "We can notice in the figure above that under this environment, adding planning steps actually reduces the performance of our learning algorithm.\n",
    "\n",
    "The flaw in the implementation is the way the the model is learned and how it evolves in the stochasticity of our environment. In this case, it is simply memorizing the first reward it got out of that action at a particular state, which may not be the same the next time (e.g. the same person to pick-up might not be at the same place, nor the dropoff..).\n",
    "\n",
    "Planning by using a model as a way to improve the knowledge of different states and actions is a great concept, but it is very dangerous if the model doesn't actually provide useful insight.\n",
    "\n",
    "In a further assignment, I will likely take this problem again and focus on a better way to deal with a model that can adapt to changes. I can better foresee how implementing machine learning techniques could become very useful in a situation like this."
   ]
  }
 ],
 "metadata": {
  "kernelspec": {
   "display_name": "Python 2",
   "language": "python",
   "name": "python2"
  },
  "language_info": {
   "codemirror_mode": {
    "name": "ipython",
    "version": 2
   },
   "file_extension": ".py",
   "mimetype": "text/x-python",
   "name": "python",
   "nbconvert_exporter": "python",
   "pygments_lexer": "ipython2",
   "version": "2.7.13"
  }
 },
 "nbformat": 4,
 "nbformat_minor": 0
}
